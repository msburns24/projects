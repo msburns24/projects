{
 "cells": [
  {
   "cell_type": "markdown",
   "id": "d958d0b6",
   "metadata": {},
   "source": [
    "# Titanic"
   ]
  },
  {
   "cell_type": "markdown",
   "id": "78e36c1e",
   "metadata": {},
   "source": [
    "To most, the Titanic may evokes imagery of a grand ship, a newspaper headline,\n",
    "or maybe the iconic picture of Leo & Kate on the bow of the ship. To data\n",
    "scientists, the Titanic often reminds us of our first dataset, a *real* dataset,\n",
    "requiring vast amounts of cleaning, preprocessing, transformation, and\n",
    "hyperparameter tuning.\n",
    "\n",
    "Nevertheless, the Titanic dataset is a great place to start with data science\n",
    "projects. It is a great place to start, covering a great variety of topics."
   ]
  },
  {
   "cell_type": "markdown",
   "id": "1ee2a9a4",
   "metadata": {},
   "source": [
    "## Setup"
   ]
  },
  {
   "cell_type": "markdown",
   "id": "51488087",
   "metadata": {},
   "source": [
    "### Download Data"
   ]
  },
  {
   "cell_type": "code",
   "execution_count": null,
   "id": "0cfe0ee4",
   "metadata": {},
   "outputs": [],
   "source": [
    "import shutil\n",
    "from pathlib import Path\n",
    "import kagglehub"
   ]
  },
  {
   "cell_type": "code",
   "execution_count": null,
   "id": "e29d9fea",
   "metadata": {},
   "outputs": [
    {
     "name": "stdout",
     "output_type": "stream",
     "text": [
      "Downloaded 1 file(s):\n",
      "\n",
      "Titanic-Dataset.csv\n"
     ]
    }
   ],
   "source": [
    "def download_dataset(name: str) -> list[Path]:\n",
    "    out_path = kagglehub.dataset_download(name)\n",
    "    files = [path for path in Path(out_path).iterdir() if path.is_file()]\n",
    "    if not files:\n",
    "        raise FileNotFoundError(f\"Download directory '{out_path}' is empty.\")\n",
    "\n",
    "    dest_files = [Path.cwd() / file.name for file in files]\n",
    "    for src, dest in zip(files, dest_files):\n",
    "        shutil.copy2(src, dest)\n",
    "    \n",
    "    return dest_files\n",
    "\n",
    "\n",
    "files = download_dataset('yasserh/titanic-dataset')\n",
    "print(f'Downloaded {len(files)} file(s):', end='\\n\\n')\n",
    "print('\\n'.join(file.name for file in files))"
   ]
  },
  {
   "cell_type": "markdown",
   "id": "ca03fd17",
   "metadata": {},
   "source": [
    "### Define Workflow"
   ]
  },
  {
   "cell_type": "markdown",
   "id": "f981c8e0",
   "metadata": {},
   "source": [
    "Before we start, let's define the scope of our workflow. I'm taking the steps\n",
    "from the framework CRISP-DM (Cross-Industry Standard Process for Data Mining).\n",
    "IBM has a useful introduction to this framework on their [website][1].\n",
    "\n",
    "1. Business Understanding\n",
    "2. Data Understanding\n",
    "3. Data Preparation\n",
    "4. Modeling\n",
    "5. Evaluation\n",
    "6. Deployment\n",
    "\n",
    "<!-- References -->\n",
    "\n",
    "[1]: https://www.ibm.com/docs/en/spss-modeler/saas?topic=dm-crisp-help-overview"
   ]
  },
  {
   "cell_type": "markdown",
   "id": "ac5a1416",
   "metadata": {},
   "source": [
    "## 1. Business Understanding"
   ]
  },
  {
   "cell_type": "markdown",
   "id": "0ac26520",
   "metadata": {},
   "source": [
    "### Business Objectives"
   ]
  },
  {
   "cell_type": "markdown",
   "id": "1cf01af5",
   "metadata": {},
   "source": [
    "Typically, we'll want to thoroughly understand the business side of things\n",
    "before embarking on an analysis. This involves a lot of discussion with\n",
    "stakeholders--the ones who feel the most impact from the problem at hand.\n",
    "\n",
    "Perhaps we need an understanding of what went wrong on the Titanic in order to\n",
    "prevent future disasters. Or, maybe we want to analyze the most impactful\n",
    "features of passengers in their survival so as to determine the effect of\n",
    "society norms in the early 20th century on a passenger surviving any kind of\n",
    "disaster.\n",
    "\n",
    "Regardless of the business case, we're looking to understand survival of\n",
    "Titanic passengers and create a model to predict which passengers will survive."
   ]
  },
  {
   "cell_type": "markdown",
   "id": "730298b6",
   "metadata": {},
   "source": [
    "### Assess the Situation"
   ]
  },
  {
   "cell_type": "markdown",
   "id": "c5ad9e35",
   "metadata": {},
   "source": [
    "Here is where we would need to evaluate what resources we have available. If\n",
    "our model was computationally intensive, what resources does our company have\n",
    "with cloud computing? Are there other metadata or supplemental datasets that\n",
    "may be useful here?\n",
    "\n",
    "For our purpose, we simply have the dataset provided to us by Kaggle.\n",
    "As we get further into the analysis, we can evaluate risks/contingencies based\n",
    "on the cleanliness of the data."
   ]
  },
  {
   "cell_type": "markdown",
   "id": "4f27290e",
   "metadata": {},
   "source": [
    "### Determine the Goals"
   ]
  },
  {
   "cell_type": "markdown",
   "id": "ce17c560",
   "metadata": {},
   "source": [
    "> *In short, what does success look like?*\n",
    "\n",
    "Personally, I would love to see a model that can predict (with excellent\n",
    "accuracy) which passengers will survive the Titanic. I anticipate that the\n",
    "bare features alone won't cut it, so a successful model will likely have\n",
    "well-engineered features that make use of the raw data. Finally, a successful\n",
    "project would be one that considers multiple models, using cross-validation,\n",
    "and implements the most successful one.\n",
    "\n",
    "Summarizing these goals, we want to:\n",
    "\n",
    "1. Create a machine learning model to predict which passengers survive\n",
    "2. Have excellent performance (to be clarified later)\n",
    "3. Develop well-engineered, meaningful features\n",
    "4. Utilize cross-validation to select the best-performing model"
   ]
  },
  {
   "cell_type": "markdown",
   "id": "9dbd0dda",
   "metadata": {},
   "source": [
    "### Formulate a Project Plan"
   ]
  },
  {
   "cell_type": "markdown",
   "id": "225f0a05",
   "metadata": {},
   "source": [
    "What kind of technologies do we want to use, and how will we implement them?\n",
    "\n",
    "We'll need to revisit this as we get further understanding of the data, but\n",
    "initially, we could make use of:\n",
    "\n",
    "- Logistic Regression Classifier\n",
    "- Naive-Bayes Classifier\n",
    "- k-Nearest Neighbors\n",
    "- Decision Tree Classifier\n",
    "- Random Forest Classifier\n",
    "- Support Vector Classifier\n",
    "\n",
    "Much of these are quickly available in the Scikit-Learn library. In addition,\n",
    "this library also provides tools for:\n",
    "\n",
    "- Train-Test splits\n",
    "- K-fold cross-validation\n",
    "- Stratified K-Fold cross-validation\n",
    "- Grid search CV\n",
    "- Accuracy metrics"
   ]
  },
  {
   "cell_type": "markdown",
   "id": "47fb397e",
   "metadata": {},
   "source": [
    "## 2. Data Understanding"
   ]
  },
  {
   "cell_type": "markdown",
   "id": "bd19eb04",
   "metadata": {},
   "source": [
    "This stage is more commonly referred to as EDA, or exploratory data analysis.\n",
    "We want to import our data and understand its structure, what problems\n",
    "we need to fix, and any other factors that may affect our workflow."
   ]
  },
  {
   "cell_type": "markdown",
   "id": "84844416",
   "metadata": {},
   "source": [
    "### Load Data"
   ]
  },
  {
   "cell_type": "code",
   "execution_count": 17,
   "id": "340e3b46",
   "metadata": {},
   "outputs": [],
   "source": [
    "# Import required modules\n",
    "import pandas as pd\n",
    "import numpy as np\n",
    "import matplotlib.pyplot as plt\n",
    "import seaborn as sns"
   ]
  },
  {
   "cell_type": "code",
   "execution_count": 21,
   "id": "0eb3a362",
   "metadata": {},
   "outputs": [
    {
     "name": "stdout",
     "output_type": "stream",
     "text": [
      "Loaded data into variable `df`\n"
     ]
    }
   ],
   "source": [
    "assert len(files) == 1\n",
    "file = files[0]\n",
    "assert file.suffix.lower() == '.csv'\n",
    "df = pd.read_csv(file)\n",
    "print('Loaded data into variable `df`')"
   ]
  },
  {
   "cell_type": "markdown",
   "id": "baea1437",
   "metadata": {},
   "source": [
    "### Describe our Data"
   ]
  },
  {
   "cell_type": "markdown",
   "id": "2a062592",
   "metadata": {},
   "source": [
    "Here, we want to understand some high-level characteristics of our data, namely:\n",
    "\n",
    "1. Data preview (i.e., the head)\n",
    "2. Data types\n",
    "3. Descriptive statistics\n",
    "4. Null value distribution"
   ]
  },
  {
   "cell_type": "code",
   "execution_count": null,
   "id": "9fa05994",
   "metadata": {},
   "outputs": [
    {
     "data": {
      "text/html": [
       "<div>\n",
       "<style scoped>\n",
       "    .dataframe tbody tr th:only-of-type {\n",
       "        vertical-align: middle;\n",
       "    }\n",
       "\n",
       "    .dataframe tbody tr th {\n",
       "        vertical-align: top;\n",
       "    }\n",
       "\n",
       "    .dataframe thead th {\n",
       "        text-align: right;\n",
       "    }\n",
       "</style>\n",
       "<table border=\"1\" class=\"dataframe\">\n",
       "  <thead>\n",
       "    <tr style=\"text-align: right;\">\n",
       "      <th></th>\n",
       "      <th>PassengerId</th>\n",
       "      <th>Survived</th>\n",
       "      <th>Pclass</th>\n",
       "      <th>Name</th>\n",
       "      <th>Sex</th>\n",
       "      <th>Age</th>\n",
       "      <th>SibSp</th>\n",
       "      <th>Parch</th>\n",
       "      <th>Ticket</th>\n",
       "      <th>Fare</th>\n",
       "      <th>Cabin</th>\n",
       "      <th>Embarked</th>\n",
       "    </tr>\n",
       "  </thead>\n",
       "  <tbody>\n",
       "    <tr>\n",
       "      <th>0</th>\n",
       "      <td>1</td>\n",
       "      <td>0</td>\n",
       "      <td>3</td>\n",
       "      <td>Braund, Mr. Owen Harris</td>\n",
       "      <td>male</td>\n",
       "      <td>22.0</td>\n",
       "      <td>1</td>\n",
       "      <td>0</td>\n",
       "      <td>A/5 21171</td>\n",
       "      <td>7.2500</td>\n",
       "      <td>NaN</td>\n",
       "      <td>S</td>\n",
       "    </tr>\n",
       "    <tr>\n",
       "      <th>1</th>\n",
       "      <td>2</td>\n",
       "      <td>1</td>\n",
       "      <td>1</td>\n",
       "      <td>Cumings, Mrs. John Bradley (Florence Briggs Th...</td>\n",
       "      <td>female</td>\n",
       "      <td>38.0</td>\n",
       "      <td>1</td>\n",
       "      <td>0</td>\n",
       "      <td>PC 17599</td>\n",
       "      <td>71.2833</td>\n",
       "      <td>C85</td>\n",
       "      <td>C</td>\n",
       "    </tr>\n",
       "    <tr>\n",
       "      <th>2</th>\n",
       "      <td>3</td>\n",
       "      <td>1</td>\n",
       "      <td>3</td>\n",
       "      <td>Heikkinen, Miss. Laina</td>\n",
       "      <td>female</td>\n",
       "      <td>26.0</td>\n",
       "      <td>0</td>\n",
       "      <td>0</td>\n",
       "      <td>STON/O2. 3101282</td>\n",
       "      <td>7.9250</td>\n",
       "      <td>NaN</td>\n",
       "      <td>S</td>\n",
       "    </tr>\n",
       "    <tr>\n",
       "      <th>3</th>\n",
       "      <td>4</td>\n",
       "      <td>1</td>\n",
       "      <td>1</td>\n",
       "      <td>Futrelle, Mrs. Jacques Heath (Lily May Peel)</td>\n",
       "      <td>female</td>\n",
       "      <td>35.0</td>\n",
       "      <td>1</td>\n",
       "      <td>0</td>\n",
       "      <td>113803</td>\n",
       "      <td>53.1000</td>\n",
       "      <td>C123</td>\n",
       "      <td>S</td>\n",
       "    </tr>\n",
       "    <tr>\n",
       "      <th>4</th>\n",
       "      <td>5</td>\n",
       "      <td>0</td>\n",
       "      <td>3</td>\n",
       "      <td>Allen, Mr. William Henry</td>\n",
       "      <td>male</td>\n",
       "      <td>35.0</td>\n",
       "      <td>0</td>\n",
       "      <td>0</td>\n",
       "      <td>373450</td>\n",
       "      <td>8.0500</td>\n",
       "      <td>NaN</td>\n",
       "      <td>S</td>\n",
       "    </tr>\n",
       "    <tr>\n",
       "      <th>5</th>\n",
       "      <td>6</td>\n",
       "      <td>0</td>\n",
       "      <td>3</td>\n",
       "      <td>Moran, Mr. James</td>\n",
       "      <td>male</td>\n",
       "      <td>NaN</td>\n",
       "      <td>0</td>\n",
       "      <td>0</td>\n",
       "      <td>330877</td>\n",
       "      <td>8.4583</td>\n",
       "      <td>NaN</td>\n",
       "      <td>Q</td>\n",
       "    </tr>\n",
       "    <tr>\n",
       "      <th>6</th>\n",
       "      <td>7</td>\n",
       "      <td>0</td>\n",
       "      <td>1</td>\n",
       "      <td>McCarthy, Mr. Timothy J</td>\n",
       "      <td>male</td>\n",
       "      <td>54.0</td>\n",
       "      <td>0</td>\n",
       "      <td>0</td>\n",
       "      <td>17463</td>\n",
       "      <td>51.8625</td>\n",
       "      <td>E46</td>\n",
       "      <td>S</td>\n",
       "    </tr>\n",
       "    <tr>\n",
       "      <th>7</th>\n",
       "      <td>8</td>\n",
       "      <td>0</td>\n",
       "      <td>3</td>\n",
       "      <td>Palsson, Master. Gosta Leonard</td>\n",
       "      <td>male</td>\n",
       "      <td>2.0</td>\n",
       "      <td>3</td>\n",
       "      <td>1</td>\n",
       "      <td>349909</td>\n",
       "      <td>21.0750</td>\n",
       "      <td>NaN</td>\n",
       "      <td>S</td>\n",
       "    </tr>\n",
       "    <tr>\n",
       "      <th>8</th>\n",
       "      <td>9</td>\n",
       "      <td>1</td>\n",
       "      <td>3</td>\n",
       "      <td>Johnson, Mrs. Oscar W (Elisabeth Vilhelmina Berg)</td>\n",
       "      <td>female</td>\n",
       "      <td>27.0</td>\n",
       "      <td>0</td>\n",
       "      <td>2</td>\n",
       "      <td>347742</td>\n",
       "      <td>11.1333</td>\n",
       "      <td>NaN</td>\n",
       "      <td>S</td>\n",
       "    </tr>\n",
       "    <tr>\n",
       "      <th>9</th>\n",
       "      <td>10</td>\n",
       "      <td>1</td>\n",
       "      <td>2</td>\n",
       "      <td>Nasser, Mrs. Nicholas (Adele Achem)</td>\n",
       "      <td>female</td>\n",
       "      <td>14.0</td>\n",
       "      <td>1</td>\n",
       "      <td>0</td>\n",
       "      <td>237736</td>\n",
       "      <td>30.0708</td>\n",
       "      <td>NaN</td>\n",
       "      <td>C</td>\n",
       "    </tr>\n",
       "  </tbody>\n",
       "</table>\n",
       "</div>"
      ],
      "text/plain": [
       "   PassengerId  Survived  Pclass  \\\n",
       "0            1         0       3   \n",
       "1            2         1       1   \n",
       "2            3         1       3   \n",
       "3            4         1       1   \n",
       "4            5         0       3   \n",
       "5            6         0       3   \n",
       "6            7         0       1   \n",
       "7            8         0       3   \n",
       "8            9         1       3   \n",
       "9           10         1       2   \n",
       "\n",
       "                                                Name     Sex   Age  SibSp  \\\n",
       "0                            Braund, Mr. Owen Harris    male  22.0      1   \n",
       "1  Cumings, Mrs. John Bradley (Florence Briggs Th...  female  38.0      1   \n",
       "2                             Heikkinen, Miss. Laina  female  26.0      0   \n",
       "3       Futrelle, Mrs. Jacques Heath (Lily May Peel)  female  35.0      1   \n",
       "4                           Allen, Mr. William Henry    male  35.0      0   \n",
       "5                                   Moran, Mr. James    male   NaN      0   \n",
       "6                            McCarthy, Mr. Timothy J    male  54.0      0   \n",
       "7                     Palsson, Master. Gosta Leonard    male   2.0      3   \n",
       "8  Johnson, Mrs. Oscar W (Elisabeth Vilhelmina Berg)  female  27.0      0   \n",
       "9                Nasser, Mrs. Nicholas (Adele Achem)  female  14.0      1   \n",
       "\n",
       "   Parch            Ticket     Fare Cabin Embarked  \n",
       "0      0         A/5 21171   7.2500   NaN        S  \n",
       "1      0          PC 17599  71.2833   C85        C  \n",
       "2      0  STON/O2. 3101282   7.9250   NaN        S  \n",
       "3      0            113803  53.1000  C123        S  \n",
       "4      0            373450   8.0500   NaN        S  \n",
       "5      0            330877   8.4583   NaN        Q  \n",
       "6      0             17463  51.8625   E46        S  \n",
       "7      1            349909  21.0750   NaN        S  \n",
       "8      2            347742  11.1333   NaN        S  \n",
       "9      0            237736  30.0708   NaN        C  "
      ]
     },
     "execution_count": 22,
     "metadata": {},
     "output_type": "execute_result"
    }
   ],
   "source": [
    "# Display first 10 rows\n",
    "df.head(10)"
   ]
  },
  {
   "cell_type": "markdown",
   "id": "077bb9b9",
   "metadata": {},
   "source": [
    "> **Notes:**\n",
    ">\n",
    "> - `PassengerId` looks like a simple incrementing ID; this should be set as\n",
    ">   the index.\n",
    "> - `Survived` is our target, a one-hot variable with 1 = \"Survived\"\n",
    "> - `PClass` seems to be a numeric value indicating first, second, or third\n",
    ">   class rooms on the ship.\n",
    "> - `Name` doesn't just include first/last name, it also includes title. This\n",
    ">   may be useful for an engineered feature.\n",
    "> - `Sex` seems to be only male/female -- this should be converted to a one-hot\n",
    ">   variable.\n",
    "> - `Age` - I see one NaN value here. I also notice it got represented as a\n",
    ">   float -- is there a passenger whose age isn't a whole integer?\n",
    "> - `SibSp` - Not immediately clear, but this one represents the number of\n",
    ">   siblings or spouses on the Titanic. I.e., other people in their group of\n",
    ">   the same age.\n",
    "> - `Parch` - Like `SibSp`, this isn't immediately clear, but the documentation\n",
    ">   says this represents the number of parents/children in their group. Both\n",
    ">   this column and `SibSp` may be useful to quantify the total people in the\n",
    ">   party's group.\n",
    "> - `Ticket` - Some of these are integers (ticket number), but some also have\n",
    ">   information like 'A/5', 'PC', 'STON/O2'. Will need to dig further to\n",
    ">   understand this field.\n",
    "> - `Fare` - How much was paid for the ticket. Do higher-paying customers have\n",
    ">   better chance of survival?\n",
    "> - `Cabin` - The cabin number. May be useful if `Pclass` isn't available.\n",
    "> - `Embarked` - S = Southampton, C = Cherbourg, Q = Queenstown. Note that the\n",
    ">   order here is not arbitrary: This is the order of ports that the Titanic\n",
    ">   visited."
   ]
  },
  {
   "cell_type": "code",
   "execution_count": 26,
   "id": "56a475c5",
   "metadata": {},
   "outputs": [
    {
     "data": {
      "text/html": [
       "<div>\n",
       "<style scoped>\n",
       "    .dataframe tbody tr th:only-of-type {\n",
       "        vertical-align: middle;\n",
       "    }\n",
       "\n",
       "    .dataframe tbody tr th {\n",
       "        vertical-align: top;\n",
       "    }\n",
       "\n",
       "    .dataframe thead th {\n",
       "        text-align: right;\n",
       "    }\n",
       "</style>\n",
       "<table border=\"1\" class=\"dataframe\">\n",
       "  <thead>\n",
       "    <tr style=\"text-align: right;\">\n",
       "      <th></th>\n",
       "      <th># Columns</th>\n",
       "    </tr>\n",
       "  </thead>\n",
       "  <tbody>\n",
       "    <tr>\n",
       "      <th>int64</th>\n",
       "      <td>5</td>\n",
       "    </tr>\n",
       "    <tr>\n",
       "      <th>object</th>\n",
       "      <td>5</td>\n",
       "    </tr>\n",
       "    <tr>\n",
       "      <th>float64</th>\n",
       "      <td>2</td>\n",
       "    </tr>\n",
       "  </tbody>\n",
       "</table>\n",
       "</div>"
      ],
      "text/plain": [
       "         # Columns\n",
       "int64            5\n",
       "object           5\n",
       "float64          2"
      ]
     },
     "metadata": {},
     "output_type": "display_data"
    },
    {
     "data": {
      "text/html": [
       "<div>\n",
       "<style scoped>\n",
       "    .dataframe tbody tr th:only-of-type {\n",
       "        vertical-align: middle;\n",
       "    }\n",
       "\n",
       "    .dataframe tbody tr th {\n",
       "        vertical-align: top;\n",
       "    }\n",
       "\n",
       "    .dataframe thead th {\n",
       "        text-align: right;\n",
       "    }\n",
       "</style>\n",
       "<table border=\"1\" class=\"dataframe\">\n",
       "  <thead>\n",
       "    <tr style=\"text-align: right;\">\n",
       "      <th></th>\n",
       "      <th>Type</th>\n",
       "    </tr>\n",
       "  </thead>\n",
       "  <tbody>\n",
       "    <tr>\n",
       "      <th>PassengerId</th>\n",
       "      <td>int64</td>\n",
       "    </tr>\n",
       "    <tr>\n",
       "      <th>Survived</th>\n",
       "      <td>int64</td>\n",
       "    </tr>\n",
       "    <tr>\n",
       "      <th>Pclass</th>\n",
       "      <td>int64</td>\n",
       "    </tr>\n",
       "    <tr>\n",
       "      <th>Name</th>\n",
       "      <td>object</td>\n",
       "    </tr>\n",
       "    <tr>\n",
       "      <th>Sex</th>\n",
       "      <td>object</td>\n",
       "    </tr>\n",
       "    <tr>\n",
       "      <th>Age</th>\n",
       "      <td>float64</td>\n",
       "    </tr>\n",
       "    <tr>\n",
       "      <th>SibSp</th>\n",
       "      <td>int64</td>\n",
       "    </tr>\n",
       "    <tr>\n",
       "      <th>Parch</th>\n",
       "      <td>int64</td>\n",
       "    </tr>\n",
       "    <tr>\n",
       "      <th>Ticket</th>\n",
       "      <td>object</td>\n",
       "    </tr>\n",
       "    <tr>\n",
       "      <th>Fare</th>\n",
       "      <td>float64</td>\n",
       "    </tr>\n",
       "    <tr>\n",
       "      <th>Cabin</th>\n",
       "      <td>object</td>\n",
       "    </tr>\n",
       "    <tr>\n",
       "      <th>Embarked</th>\n",
       "      <td>object</td>\n",
       "    </tr>\n",
       "  </tbody>\n",
       "</table>\n",
       "</div>"
      ],
      "text/plain": [
       "                Type\n",
       "PassengerId    int64\n",
       "Survived       int64\n",
       "Pclass         int64\n",
       "Name          object\n",
       "Sex           object\n",
       "Age          float64\n",
       "SibSp          int64\n",
       "Parch          int64\n",
       "Ticket        object\n",
       "Fare         float64\n",
       "Cabin         object\n",
       "Embarked      object"
      ]
     },
     "metadata": {},
     "output_type": "display_data"
    }
   ],
   "source": [
    "# Display data types\n",
    "display(df.dtypes.value_counts().to_frame('# Columns'))\n",
    "display(df.dtypes.to_frame(name='Type'))"
   ]
  },
  {
   "cell_type": "markdown",
   "id": "b7b8f071",
   "metadata": {},
   "source": [
    "> **Notes:**\n",
    ">\n",
    "> As mentioned above, it's interesting that the `Age` field came in as a float.\n",
    "> It may make more sense to convert this to an integer, unless that partial\n",
    "> year gives us some kind of information.\n",
    ">\n",
    "> Also, while it may be tempting to get rid of the 5 string fields, we can't\n",
    "> disregard this yet -- we don't have a ton of information to work with, so\n",
    "> we'll want to extract as much information as possible."
   ]
  },
  {
   "cell_type": "code",
   "execution_count": 28,
   "id": "fff62975",
   "metadata": {},
   "outputs": [
    {
     "data": {
      "text/html": [
       "<div>\n",
       "<style scoped>\n",
       "    .dataframe tbody tr th:only-of-type {\n",
       "        vertical-align: middle;\n",
       "    }\n",
       "\n",
       "    .dataframe tbody tr th {\n",
       "        vertical-align: top;\n",
       "    }\n",
       "\n",
       "    .dataframe thead th {\n",
       "        text-align: right;\n",
       "    }\n",
       "</style>\n",
       "<table border=\"1\" class=\"dataframe\">\n",
       "  <thead>\n",
       "    <tr style=\"text-align: right;\">\n",
       "      <th></th>\n",
       "      <th>PassengerId</th>\n",
       "      <th>Survived</th>\n",
       "      <th>Pclass</th>\n",
       "      <th>Age</th>\n",
       "      <th>SibSp</th>\n",
       "      <th>Parch</th>\n",
       "      <th>Fare</th>\n",
       "    </tr>\n",
       "  </thead>\n",
       "  <tbody>\n",
       "    <tr>\n",
       "      <th>count</th>\n",
       "      <td>891.00</td>\n",
       "      <td>891.00</td>\n",
       "      <td>891.00</td>\n",
       "      <td>714.00</td>\n",
       "      <td>891.00</td>\n",
       "      <td>891.00</td>\n",
       "      <td>891.00</td>\n",
       "    </tr>\n",
       "    <tr>\n",
       "      <th>mean</th>\n",
       "      <td>446.00</td>\n",
       "      <td>0.38</td>\n",
       "      <td>2.31</td>\n",
       "      <td>29.70</td>\n",
       "      <td>0.52</td>\n",
       "      <td>0.38</td>\n",
       "      <td>32.20</td>\n",
       "    </tr>\n",
       "    <tr>\n",
       "      <th>std</th>\n",
       "      <td>257.35</td>\n",
       "      <td>0.49</td>\n",
       "      <td>0.84</td>\n",
       "      <td>14.53</td>\n",
       "      <td>1.10</td>\n",
       "      <td>0.81</td>\n",
       "      <td>49.69</td>\n",
       "    </tr>\n",
       "    <tr>\n",
       "      <th>min</th>\n",
       "      <td>1.00</td>\n",
       "      <td>0.00</td>\n",
       "      <td>1.00</td>\n",
       "      <td>0.42</td>\n",
       "      <td>0.00</td>\n",
       "      <td>0.00</td>\n",
       "      <td>0.00</td>\n",
       "    </tr>\n",
       "    <tr>\n",
       "      <th>25%</th>\n",
       "      <td>223.50</td>\n",
       "      <td>0.00</td>\n",
       "      <td>2.00</td>\n",
       "      <td>20.12</td>\n",
       "      <td>0.00</td>\n",
       "      <td>0.00</td>\n",
       "      <td>7.91</td>\n",
       "    </tr>\n",
       "    <tr>\n",
       "      <th>50%</th>\n",
       "      <td>446.00</td>\n",
       "      <td>0.00</td>\n",
       "      <td>3.00</td>\n",
       "      <td>28.00</td>\n",
       "      <td>0.00</td>\n",
       "      <td>0.00</td>\n",
       "      <td>14.45</td>\n",
       "    </tr>\n",
       "    <tr>\n",
       "      <th>75%</th>\n",
       "      <td>668.50</td>\n",
       "      <td>1.00</td>\n",
       "      <td>3.00</td>\n",
       "      <td>38.00</td>\n",
       "      <td>1.00</td>\n",
       "      <td>0.00</td>\n",
       "      <td>31.00</td>\n",
       "    </tr>\n",
       "    <tr>\n",
       "      <th>max</th>\n",
       "      <td>891.00</td>\n",
       "      <td>1.00</td>\n",
       "      <td>3.00</td>\n",
       "      <td>80.00</td>\n",
       "      <td>8.00</td>\n",
       "      <td>6.00</td>\n",
       "      <td>512.33</td>\n",
       "    </tr>\n",
       "  </tbody>\n",
       "</table>\n",
       "</div>"
      ],
      "text/plain": [
       "       PassengerId  Survived  Pclass     Age   SibSp   Parch    Fare\n",
       "count       891.00    891.00  891.00  714.00  891.00  891.00  891.00\n",
       "mean        446.00      0.38    2.31   29.70    0.52    0.38   32.20\n",
       "std         257.35      0.49    0.84   14.53    1.10    0.81   49.69\n",
       "min           1.00      0.00    1.00    0.42    0.00    0.00    0.00\n",
       "25%         223.50      0.00    2.00   20.12    0.00    0.00    7.91\n",
       "50%         446.00      0.00    3.00   28.00    0.00    0.00   14.45\n",
       "75%         668.50      1.00    3.00   38.00    1.00    0.00   31.00\n",
       "max         891.00      1.00    3.00   80.00    8.00    6.00  512.33"
      ]
     },
     "execution_count": 28,
     "metadata": {},
     "output_type": "execute_result"
    }
   ],
   "source": [
    "# Describe the data\n",
    "df.describe().round(2)"
   ]
  },
  {
   "cell_type": "markdown",
   "id": "0a57fdbd",
   "metadata": {},
   "source": [
    "> **Notes:**\n",
    ">\n",
    "> - `PassengerId` - Irrelevant, as this is just an index.\n",
    "> - `Survived` - The min/max don't tell us much, but the mean is useful -- 38%\n",
    ">   of passengers survived, so around 1 in 3.\n",
    "> - `Pclass` - This is an ordinal field, not numeric, but it does tell us that\n",
    ">   the average passenger was between class 2 and 3.\n",
    "> - `Age` - There is a variety of ages on the Titanic, with the typical\n",
    ">   passenger being about 28-29 years of age, the youngest was 0.42 (5 months)\n",
    ">   and the eldest was 80 years old. Most passengers (25-75 percentile) were\n",
    ">   between 20-38 years old.\n",
    "> - `SibSp` - Most passengers (>50%) didn't have any siblings or spouses. Even\n",
    ">   the 75% percentile was just 1 other person of their age. The largest group\n",
    ">   was 8 siblings/spouses (almost certainly 8 siblings).\n",
    "> - `Parch` - The vast majority (>75%) didn't have any parents or children\n",
    ">   aboard, but one group had 6 parents/children.\n",
    "> - `Fare` - On average, passengers paid $32.20 with a *wide* standard deviation\n",
    ">   of $49.69. Most passengers paid between $8-31, with the wealthiest\n",
    ">   passenger paying a whopping $512.33 for their fare."
   ]
  },
  {
   "cell_type": "code",
   "execution_count": null,
   "id": "7289b837",
   "metadata": {},
   "outputs": [
    {
     "data": {
      "text/html": [
       "<div>\n",
       "<style scoped>\n",
       "    .dataframe tbody tr th:only-of-type {\n",
       "        vertical-align: middle;\n",
       "    }\n",
       "\n",
       "    .dataframe tbody tr th {\n",
       "        vertical-align: top;\n",
       "    }\n",
       "\n",
       "    .dataframe thead th {\n",
       "        text-align: right;\n",
       "    }\n",
       "</style>\n",
       "<table border=\"1\" class=\"dataframe\">\n",
       "  <thead>\n",
       "    <tr style=\"text-align: right;\">\n",
       "      <th></th>\n",
       "      <th>Age</th>\n",
       "      <th>Cabin</th>\n",
       "      <th>Embarked</th>\n",
       "    </tr>\n",
       "  </thead>\n",
       "  <tbody>\n",
       "    <tr>\n",
       "      <th>Null Count</th>\n",
       "      <td>177</td>\n",
       "      <td>687</td>\n",
       "      <td>2</td>\n",
       "    </tr>\n",
       "    <tr>\n",
       "      <th>% Null</th>\n",
       "      <td>19.87%</td>\n",
       "      <td>77.10%</td>\n",
       "      <td>0.22%</td>\n",
       "    </tr>\n",
       "  </tbody>\n",
       "</table>\n",
       "</div>"
      ],
      "text/plain": [
       "               Age   Cabin Embarked\n",
       "Null Count     177     687        2\n",
       "% Null      19.87%  77.10%    0.22%"
      ]
     },
     "execution_count": 38,
     "metadata": {},
     "output_type": "execute_result"
    }
   ],
   "source": [
    "# Understand the null distribution\n",
    "null_distribution = pd.DataFrame({\n",
    "    'Null Count': df.isna().sum().map(lambda n: '' if n == 0 else f'{n:,}'),\n",
    "    '% Null': df.isna().mean().map(lambda p: '' if p == 0 else f'{p:.2%}')\n",
    "})\n",
    "null_distribution = null_distribution.loc[null_distribution.iloc[:,0] != '']\n",
    "\n",
    "null_distribution.T"
   ]
  },
  {
   "cell_type": "markdown",
   "id": "30cb6c47",
   "metadata": {},
   "source": [
    "> **Notes:**\n",
    ">\n",
    "> Most fields don't have any null values, which is helpful. The most\n",
    "> problematic field will be Cabin, but from looking at the top 10 rows, it\n",
    "> doesn't seem like this will be useful. We may just drop this field all\n",
    "> together.\n",
    ">\n",
    "> `Age` is an interesting one: there is a significant amount of nulls here, but\n",
    "> it may be quite a useful field. We could look at doing a quick predictive\n",
    "> model based on `Name`, `Fare`, `Embarked`, `SibSp`, and `Parch`. Or, if we\n",
    "> want something quick, we could do a simple median-value or mean-value\n",
    "> imputation.\n",
    ">\n",
    "> `Embarked` will probably require a quick manual fix here, since it's only\n",
    "> 2 records."
   ]
  },
  {
   "cell_type": "markdown",
   "id": "29e52ffb",
   "metadata": {},
   "source": [
    "### Explore the Data"
   ]
  },
  {
   "cell_type": "markdown",
   "id": "c9c01c21",
   "metadata": {},
   "source": [
    "Now for the fun part of EDA--the visuals! Let's try to visualize what our\n",
    "data looks like. Each cell will be looking to answer a preliminary question\n",
    "or one raised in the data description step prior to this."
   ]
  },
  {
   "cell_type": "code",
   "execution_count": 39,
   "id": "8dd5d3c4",
   "metadata": {},
   "outputs": [
    {
     "data": {
      "text/html": [
       "<div>\n",
       "<style scoped>\n",
       "    .dataframe tbody tr th:only-of-type {\n",
       "        vertical-align: middle;\n",
       "    }\n",
       "\n",
       "    .dataframe tbody tr th {\n",
       "        vertical-align: top;\n",
       "    }\n",
       "\n",
       "    .dataframe thead th {\n",
       "        text-align: right;\n",
       "    }\n",
       "</style>\n",
       "<table border=\"1\" class=\"dataframe\">\n",
       "  <thead>\n",
       "    <tr style=\"text-align: right;\">\n",
       "      <th></th>\n",
       "      <th>PassengerId</th>\n",
       "      <th>Survived</th>\n",
       "      <th>Pclass</th>\n",
       "      <th>Name</th>\n",
       "      <th>Sex</th>\n",
       "      <th>Age</th>\n",
       "      <th>SibSp</th>\n",
       "      <th>Parch</th>\n",
       "      <th>Ticket</th>\n",
       "      <th>Fare</th>\n",
       "      <th>Cabin</th>\n",
       "      <th>Embarked</th>\n",
       "    </tr>\n",
       "  </thead>\n",
       "  <tbody>\n",
       "    <tr>\n",
       "      <th>0</th>\n",
       "      <td>1</td>\n",
       "      <td>0</td>\n",
       "      <td>3</td>\n",
       "      <td>Braund, Mr. Owen Harris</td>\n",
       "      <td>male</td>\n",
       "      <td>22.0</td>\n",
       "      <td>1</td>\n",
       "      <td>0</td>\n",
       "      <td>A/5 21171</td>\n",
       "      <td>7.2500</td>\n",
       "      <td>NaN</td>\n",
       "      <td>S</td>\n",
       "    </tr>\n",
       "    <tr>\n",
       "      <th>1</th>\n",
       "      <td>2</td>\n",
       "      <td>1</td>\n",
       "      <td>1</td>\n",
       "      <td>Cumings, Mrs. John Bradley (Florence Briggs Th...</td>\n",
       "      <td>female</td>\n",
       "      <td>38.0</td>\n",
       "      <td>1</td>\n",
       "      <td>0</td>\n",
       "      <td>PC 17599</td>\n",
       "      <td>71.2833</td>\n",
       "      <td>C85</td>\n",
       "      <td>C</td>\n",
       "    </tr>\n",
       "    <tr>\n",
       "      <th>2</th>\n",
       "      <td>3</td>\n",
       "      <td>1</td>\n",
       "      <td>3</td>\n",
       "      <td>Heikkinen, Miss. Laina</td>\n",
       "      <td>female</td>\n",
       "      <td>26.0</td>\n",
       "      <td>0</td>\n",
       "      <td>0</td>\n",
       "      <td>STON/O2. 3101282</td>\n",
       "      <td>7.9250</td>\n",
       "      <td>NaN</td>\n",
       "      <td>S</td>\n",
       "    </tr>\n",
       "    <tr>\n",
       "      <th>3</th>\n",
       "      <td>4</td>\n",
       "      <td>1</td>\n",
       "      <td>1</td>\n",
       "      <td>Futrelle, Mrs. Jacques Heath (Lily May Peel)</td>\n",
       "      <td>female</td>\n",
       "      <td>35.0</td>\n",
       "      <td>1</td>\n",
       "      <td>0</td>\n",
       "      <td>113803</td>\n",
       "      <td>53.1000</td>\n",
       "      <td>C123</td>\n",
       "      <td>S</td>\n",
       "    </tr>\n",
       "    <tr>\n",
       "      <th>4</th>\n",
       "      <td>5</td>\n",
       "      <td>0</td>\n",
       "      <td>3</td>\n",
       "      <td>Allen, Mr. William Henry</td>\n",
       "      <td>male</td>\n",
       "      <td>35.0</td>\n",
       "      <td>0</td>\n",
       "      <td>0</td>\n",
       "      <td>373450</td>\n",
       "      <td>8.0500</td>\n",
       "      <td>NaN</td>\n",
       "      <td>S</td>\n",
       "    </tr>\n",
       "  </tbody>\n",
       "</table>\n",
       "</div>"
      ],
      "text/plain": [
       "   PassengerId  Survived  Pclass  \\\n",
       "0            1         0       3   \n",
       "1            2         1       1   \n",
       "2            3         1       3   \n",
       "3            4         1       1   \n",
       "4            5         0       3   \n",
       "\n",
       "                                                Name     Sex   Age  SibSp  \\\n",
       "0                            Braund, Mr. Owen Harris    male  22.0      1   \n",
       "1  Cumings, Mrs. John Bradley (Florence Briggs Th...  female  38.0      1   \n",
       "2                             Heikkinen, Miss. Laina  female  26.0      0   \n",
       "3       Futrelle, Mrs. Jacques Heath (Lily May Peel)  female  35.0      1   \n",
       "4                           Allen, Mr. William Henry    male  35.0      0   \n",
       "\n",
       "   Parch            Ticket     Fare Cabin Embarked  \n",
       "0      0         A/5 21171   7.2500   NaN        S  \n",
       "1      0          PC 17599  71.2833   C85        C  \n",
       "2      0  STON/O2. 3101282   7.9250   NaN        S  \n",
       "3      0            113803  53.1000  C123        S  \n",
       "4      0            373450   8.0500   NaN        S  "
      ]
     },
     "execution_count": 39,
     "metadata": {},
     "output_type": "execute_result"
    }
   ],
   "source": [
    "df.head()"
   ]
  },
  {
   "cell_type": "code",
   "execution_count": 125,
   "id": "8d08ff36",
   "metadata": {},
   "outputs": [
    {
     "data": {
      "image/png": "[encoded data removed]",
      "text/plain": [
       "<Figure size 640x480 with 1 Axes>"
      ]
     },
     "metadata": {},
     "output_type": "display_data"
    }
   ],
   "source": [
    "# How did class play a role in survival?\n",
    "df_class = df.groupby('Pclass', as_index=False)[['Survived']].mean()\n",
    "ax = df_class.plot(\n",
    "    kind='bar',\n",
    "    x='Pclass',\n",
    "    y='Survived',\n",
    "    xlabel='Passenger Class',\n",
    "    ylabel='Passenger Survival (%)',\n",
    "    rot=0,\n",
    "    color='dodgerblue',\n",
    "    legend=False,\n",
    "    title='Passenger Survival by Class'\n",
    ")\n",
    "\n",
    "# ax = sns.barplot(df, x='Pclass', y='Survived', errorbar=None, color='dodgerblue')\n",
    "\n",
    "# # X Labels\n",
    "ax.set_xticks(range(3), ['First', 'Second', 'Third'])\n",
    "\n",
    "# # Y Labels\n",
    "# ax.set_ylabel('Passenger Survival (%)', labelpad=8)\n",
    "# yticks = ax.get_yticks()\n",
    "# ytick_labels = map('{:.0%}'.format, yticks)\n",
    "# ax.set_yticks(yticks, ytick_labels)\n",
    "\n",
    "# # Value Labels\n",
    "# for container in ax.containers:\n",
    "#     ax.bar_label(container, label_type='center', fmt='{:.1%}', color='white')\n",
    "\n",
    "# ax.set_title('Passenger Survival by Class', size=14, pad=12)\n",
    "plt.show()"
   ]
  },
  {
   "cell_type": "markdown",
   "id": "f28d749c",
   "metadata": {},
   "source": [
    "> **Notes:**\n",
    ">\n",
    "> Unsurprisingly, first-class passengers has the best chance of surviving,\n",
    "> followed by second, then third class."
   ]
  },
  {
   "cell_type": "code",
   "execution_count": 116,
   "id": "e67bf856",
   "metadata": {},
   "outputs": [
    {
     "data": {
      "image/png": "[encoded data removed]",
      "text/plain": [
       "<Figure size 640x480 with 1 Axes>"
      ]
     },
     "metadata": {},
     "output_type": "display_data"
    }
   ],
   "source": [
    "# What was the distribution of sex on the Titanic? How did this affect surival?\n",
    "\n",
    "# Create pivot-table by sex\n",
    "df_sex = df.groupby(['Sex', 'Survived'], as_index=False)[['PassengerId']].count()\n",
    "df_sex = df_sex.pivot(index='Sex', columns='Survived', values='PassengerId')\n",
    "df_sex.rename(inplace=True, columns=lambda s: ['No', 'Yes'][s])\n",
    "df_sex.sort_index(inplace=True, axis=1, ascending=False)  # Show 'Yes' first\n",
    "\n",
    "# Plot data\n",
    "ax = df_sex.plot(\n",
    "    kind='bar',\n",
    "    stacked=True,\n",
    "    color=['dodgerblue', 'lightgray'],\n",
    "    legend=False,\n",
    "    title='Survival by Sex',\n",
    "    rot=0,\n",
    ")\n",
    "plt.show()"
   ]
  },
  {
   "cell_type": "code",
   "execution_count": null,
   "id": "254894db",
   "metadata": {},
   "outputs": [
    {
     "data": {
      "image/png": "[encoded data removed]",
      "text/plain": [
       "<Figure size 1200x600 with 2 Axes>"
      ]
     },
     "metadata": {},
     "output_type": "display_data"
    }
   ],
   "source": [
    "# What was the distribution of sex on the Titanic? How did this affect surival?\n",
    "fig, (ax0, ax1) = plt.subplots(1, 2, figsize=(12, 6))\n",
    "\n",
    "df_sex = df.groupby('Sex', as_index=False)['Survived'].agg(['mean', 'count'])\n",
    "\n",
    "# Passenger count\n",
    "ax0 = sns.barplot(df_sex, y='Sex', x='count', ax=ax0)\n",
    "ax0.set_ylabel('Sex')\n",
    "ax0.set_xlabel('# Passengers')\n",
    "\n",
    "# Survival Rate\n",
    "ax1 = sns.barplot(df_sex, y='Sex', x='mean', ax=ax1)\n",
    "ax1.set_ylabel(None)\n",
    "ax1.set_\n",
    "ax1.set_xlabel('Survival (%)')\n",
    "\n",
    "plt.show()"
   ]
  },
  {
   "cell_type": "markdown",
   "id": "7bb736a1",
   "metadata": {},
   "source": [
    "### Verify Data Quality"
   ]
  },
  {
   "cell_type": "markdown",
   "id": "46b47071",
   "metadata": {},
   "source": [
    "## 3. Data Preparation"
   ]
  },
  {
   "cell_type": "markdown",
   "id": "dd01f028",
   "metadata": {},
   "source": [
    "## 4. Modeling"
   ]
  },
  {
   "cell_type": "markdown",
   "id": "9f86c500",
   "metadata": {},
   "source": [
    "## 5. Evaluation"
   ]
  },
  {
   "cell_type": "markdown",
   "id": "bfe63134",
   "metadata": {},
   "source": [
    "## 6. Deployment"
   ]
  }
 ],
 "metadata": {
  "kernelspec": {
   "display_name": "Python 3",
   "language": "python",
   "name": "python3"
  },
  "language_info": {
   "codemirror_mode": {
    "name": "ipython",
    "version": 3
   },
   "file_extension": ".py",
   "mimetype": "text/x-python",
   "name": "python",
   "nbconvert_exporter": "python",
   "pygments_lexer": "ipython3",
   "version": "3.12.10"
  }
 },
 "nbformat": 4,
 "nbformat_minor": 5
}
