{
 "cells": [
  {
   "cell_type": "markdown",
   "id": "8c140449",
   "metadata": {},
   "source": [
    "# Linear Regression: The Normal Equation vs. Gradient Descent"
   ]
  },
  {
   "cell_type": "markdown",
   "id": "8ea9100d",
   "metadata": {},
   "source": [
    "**Objective:** Determine the threshold(s) where the normal equation becomes\n",
    "less efficient than standard gradient descent."
   ]
  },
  {
   "cell_type": "code",
   "execution_count": 1,
   "id": "319b1496",
   "metadata": {},
   "outputs": [],
   "source": [
    "import time\n",
    "import pandas as pd\n",
    "import numpy as np\n",
    "from numpy.typing import NDArray\n",
    "import matplotlib.pyplot as plt\n",
    "from tqdm.notebook import tqdm"
   ]
  },
  {
   "cell_type": "markdown",
   "id": "e994c240",
   "metadata": {},
   "source": [
    "## Normal Equation"
   ]
  },
  {
   "cell_type": "markdown",
   "id": "0e68ed94",
   "metadata": {},
   "source": [
    "The normal equation can be used to calculate the optimal coefficients using\n",
    "the least-squares method. To account for the linear term, we can concatenate\n",
    "$X$ with a ones vector $\\mathbf{1} \\in \\mathbb{R}^{n}$.\n",
    "\n",
    "$$\n",
    "\\begin{align*}\n",
    "  \\tilde{X} &= \\begin{bmatrix}\n",
    "    \\mathbf{1} & X\n",
    "  \\end{bmatrix}\n",
    "  \\\\\n",
    "  Y &= \\tilde{X} \\beta + \\epsilon\n",
    "  \\\\\n",
    "  \\hat{\\beta} &= (\\tilde{X}^T \\tilde{X})^{-1} \\tilde{X}^T Y\n",
    "\\end{align*}\n",
    "$$\n",
    "\n",
    "Where $X \\in \\mathbb{R}^{n \\times d}, Y \\in \\mathbb{R}^{n \\times 1},$\n",
    "$\\beta \\in \\mathbb{R}^{(d+1) \\times 1}$, and $\\epsilon$ is a random error term."
   ]
  },
  {
   "cell_type": "markdown",
   "id": "dea6e26d",
   "metadata": {},
   "source": [
    "Linear regression can typically be performed using this equation; however,\n",
    "it becomes computationally expensive as the size of the matrix increases."
   ]
  },
  {
   "cell_type": "markdown",
   "id": "98aa6496",
   "metadata": {},
   "source": [
    "### Helper Functions"
   ]
  },
  {
   "cell_type": "code",
   "execution_count": 2,
   "id": "3da48c05",
   "metadata": {},
   "outputs": [
    {
     "name": "stdout",
     "output_type": "stream",
     "text": [
      "X:\n",
      "[[38.47629987 93.40620635]\n",
      " [27.33006029 45.76702853]\n",
      " [55.27570267 27.07421849]\n",
      " [96.2667042  32.97504863]\n",
      " [81.47813934  1.69312679]]\n",
      "\n",
      "Y:\n",
      "[[514.31357356]\n",
      " [294.28636548]\n",
      " [349.71218424]\n",
      " [552.63210776]\n",
      " [374.05498886]]\n"
     ]
    }
   ],
   "source": [
    "def generate_random_data(n: int, d: int) -> tuple[NDArray, NDArray]:\n",
    "    '''\n",
    "    Generates a random dataset `X` and `Y`, where feature matrix `X` has shape\n",
    "    `(n, d)` and target matrix `Y` has shape `(n, 1)`.\n",
    "\n",
    "    The data is correlated in the form `y = b0 + b1 x1 + ... + bd xd + e`,\n",
    "    where `b0, b1, ..., bd` are the linear coefficients and `e` is a random\n",
    "    error term.\n",
    "\n",
    "    The values of `x1, x2, ..., xd` are random values from a uniform\n",
    "    distribution between `0` and `100`.\n",
    "\n",
    "    The coefficients and error term are also random, drawn from a normal\n",
    "    distribution with a  mean of `μ = 3` and a standard deviation of `σ = 1`.\n",
    "    '''\n",
    "    mu = 3\n",
    "    sigma = 1\n",
    "\n",
    "    b = np.random.normal(loc=mu, scale=sigma, size=(d, 1))\n",
    "    b0 = np.random.normal(loc=mu, scale=sigma)\n",
    "    e = np.random.normal(mu, sigma, (n, 1))\n",
    "\n",
    "    X = np.random.random(size=(n, d)) * 100\n",
    "    Y = np.dot(X, b) + b0 + e\n",
    "    return X, Y\n",
    "\n",
    "\n",
    "X, Y = generate_random_data(5, 2)\n",
    "\n",
    "print('X:', X, sep='\\n')\n",
    "print()\n",
    "print('Y:', Y, sep='\\n')"
   ]
  },
  {
   "cell_type": "code",
   "execution_count": 3,
   "id": "c465906e",
   "metadata": {},
   "outputs": [
    {
     "data": {
      "text/plain": [
       "array([[8.38098642],\n",
       "       [4.41660831],\n",
       "       [3.5999832 ]])"
      ]
     },
     "execution_count": 3,
     "metadata": {},
     "output_type": "execute_result"
    }
   ],
   "source": [
    "def normal_equation(X: NDArray, Y: NDArray) -> NDArray:\n",
    "    '''\n",
    "    Parameters\n",
    "    ----------\n",
    "    X : NDArray\n",
    "        The input features, shape `(n, d)`.\n",
    "    Y : NDArray\n",
    "        The target output, shape `(n, 1)`\n",
    "    \n",
    "    Returns\n",
    "    -------\n",
    "    beta : NDArray\n",
    "        The least squares coefficients, shape `(d + 1, 1)`\n",
    "    '''\n",
    "    n, d = X.shape\n",
    "    X = np.hstack([np.ones((n, 1)), X])\n",
    "    beta = np.linalg.inv(X.T @ X) @ X.T @ Y\n",
    "    return beta\n",
    "\n",
    "\n",
    "normal_equation(X, Y)"
   ]
  },
  {
   "cell_type": "markdown",
   "id": "8378e50a",
   "metadata": {},
   "source": [
    "### Experiment"
   ]
  },
  {
   "cell_type": "code",
   "execution_count": 25,
   "id": "dfd1191c",
   "metadata": {},
   "outputs": [],
   "source": [
    "def time_normal_equation(n: int, d: int, simulations: int=50) -> float:\n",
    "    times = []\n",
    "    for _ in range(simulations):\n",
    "        X, Y = generate_random_data(n, d)\n",
    "        start_time = time.perf_counter()\n",
    "        beta = normal_equation(X, Y)\n",
    "        duration = time.perf_counter() - start_time\n",
    "        times.append(duration)\n",
    "    return sum(times) / simulations"
   ]
  },
  {
   "cell_type": "code",
   "execution_count": 26,
   "id": "e7f48392",
   "metadata": {},
   "outputs": [
    {
     "data": {
      "application/vnd.jupyter.widget-view+json": {
       "model_id": "e3585cf07445448ea9fa9f5ad0fa43e8",
       "version_major": 2,
       "version_minor": 0
      },
      "text/plain": [
       "Running tests:   0%|          | 0/1000 [00:00<?, ?it/s]"
      ]
     },
     "metadata": {},
     "output_type": "display_data"
    },
    {
     "data": {
      "image/png": "[encoded data removed]",
      "text/plain": [
       "<Figure size 640x480 with 1 Axes>"
      ]
     },
     "metadata": {},
     "output_type": "display_data"
    }
   ],
   "source": [
    "# Parameters\n",
    "n = 1000\n",
    "d_max = 1000\n",
    "d = np.arange(1, d_max + 1)\n",
    "np.random.shuffle(d)   # Allow more consistent time across simulation\n",
    "t = np.zeros_like(d, dtype=np.float64)\n",
    "\n",
    "\n",
    "# Simulations\n",
    "for i, d_i in tqdm(enumerate(d), desc='Running tests', total=len(d)):\n",
    "    t_i = time_normal_equation(n, d_i)\n",
    "    t[i] = t_i\n",
    "\n",
    "\n",
    "# Plot\n",
    "plt.scatter(d, t * 1000)\n",
    "plt.xlabel('Number of Features')\n",
    "plt.ylabel('Training Time (ms)')\n",
    "plt.show()"
   ]
  },
  {
   "cell_type": "code",
   "execution_count": 27,
   "id": "74c51026",
   "metadata": {},
   "outputs": [],
   "source": [
    "import pandas as pd\n",
    "df = pd.DataFrame({'d': d, 't': t})\n",
    "df.insert(0, 'n', n)\n",
    "df.to_csv('time.csv', index=False)"
   ]
  },
  {
   "cell_type": "markdown",
   "id": "b79f5e64",
   "metadata": {},
   "source": [
    "## Gradient Descent"
   ]
  },
  {
   "cell_type": "markdown",
   "id": "9610b536",
   "metadata": {},
   "source": [
    "### Background"
   ]
  }
 ],
 "metadata": {
  "kernelspec": {
   "display_name": "Python 3",
   "language": "python",
   "name": "python3"
  },
  "language_info": {
   "codemirror_mode": {
    "name": "ipython",
    "version": 3
   },
   "file_extension": ".py",
   "mimetype": "text/x-python",
   "name": "python",
   "nbconvert_exporter": "python",
   "pygments_lexer": "ipython3",
   "version": "3.12.10"
  }
 },
 "nbformat": 4,
 "nbformat_minor": 5
}
