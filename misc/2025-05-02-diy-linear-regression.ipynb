{
 "cells": [
  {
   "cell_type": "markdown",
   "id": "3216e995",
   "metadata": {},
   "source": [
    "## DIY Linear Regression"
   ]
  },
  {
   "cell_type": "markdown",
   "id": "a2e65d1e",
   "metadata": {},
   "source": [
    "Let's look again at the MPG dataset. In particular, let's see how we can model\n",
    "the relationship between the numeric columns and the MPG column."
   ]
  },
  {
   "cell_type": "markdown",
   "id": "42001ee0",
   "metadata": {},
   "source": [
    "## Theory"
   ]
  },
  {
   "cell_type": "markdown",
   "id": "3d4ce640",
   "metadata": {},
   "source": [
    "Linear regression models the relationship between one or more input variables\n",
    "(**features**) and a continuous numeric output (**target**) by fitting a linear\n",
    "equation.\n",
    "\n",
    "With *simple linear regression*, there is only one feature of interest, $x$:\n",
    "\n",
    "$$ \\hat{y} = \\beta_0 + \\beta_1 x $$\n",
    "\n",
    "Here, $\\hat{y}$ is the target value that we want to predict, $x$ is the single\n",
    "input feature, $\\beta_0$ is the y-intercept, and $\\beta_1$ is the coefficient\n",
    "used to estimate for our model.\n",
    "\n",
    "However, we don't have to limit ourselves to just one input variable -- we can\n",
    "use *multiple linear regression* to model the output variable as a linear\n",
    "combination of any number of input variables $x_1, x_2, \\dots, x_n$. In that\n",
    "case, our predictive model can be described as:\n",
    "\n",
    "$$ \\hat{y} = \\beta_0 + \\beta_1 x + \\beta_2 x_2 + \\dots + \\beta_n x_n $$\n",
    "\n",
    "Here, $\\beta_0$ is still the y-intercept, but we have multiple coefficients\n",
    "$\\beta_1, \\beta_2, \\dots, \\beta_n$ that multiple by their respective $x$\n",
    "values."
   ]
  },
  {
   "cell_type": "markdown",
   "id": "12f8c408",
   "metadata": {},
   "source": [
    "## Estimating the Error"
   ]
  },
  {
   "cell_type": "markdown",
   "id": "0014fcc8",
   "metadata": {},
   "source": [
    "Ultimately, we want our model to have parameters that put the estimate\n",
    "$\\hat{y}$ as close as possible to the true $y$ values. In mathematical terms,\n",
    "we want to minimize the error between the predicted and true values. \n",
    "\n",
    "while there are many ways to estimate error, the most common way of estimating\n",
    "linear regression error is with *mean squared error (MSE)*:\n",
    "\n",
    "$$ \\text{MSE} = \\frac{1}{m} \\sum_{i=1}^m (\\hat{y}_i - y_i)^2 $$\n",
    "\n",
    "Where $\\text{MSE}$ represents the mean squared error and $m$ is the number of\n",
    "observations / samples in the dataset.\n",
    "\n",
    "We can take a couple different approaches using the equation:\n",
    "\n",
    "1. Using *gradient descent*, making small, interative improvements that move us\n",
    "   close to the most accurate parameters, or\n",
    "2. Using the *closed-form solution*, which uses calculus to find the optimal\n",
    "   parameters that minimize error.\n",
    "\n",
    "I could take an entire post to talk about gradient descent, as it's one of the\n",
    "most widely used optimization algorithms in machine learning. However, for\n",
    "the purpose of this post, we can focus on the *closed-form solution* to find\n",
    "our values."
   ]
  },
  {
   "cell_type": "markdown",
   "id": "ab37e904",
   "metadata": {},
   "source": [
    "## The Closed-Form Solution"
   ]
  },
  {
   "cell_type": "markdown",
   "id": "a54912f9",
   "metadata": {},
   "source": [
    "If we combined all parameters into one vector:\n",
    "\n",
    "$$\n",
    "\\bf{\\beta} = \\begin{bmatrix} \\beta_0 & \\beta_1 & \\dots & \\beta_n \n",
    "\\end{bmatrix}^T,\n",
    "$$\n",
    "\n",
    "we can then combine all of our observations $x_1, x_2, \\dots, x_n$ into a\n",
    "single matrix $\\bf{X}$, providing a linear equation to estimate $\\bf{\\hat{y}}$:\n",
    "\n",
    "$$\n",
    "\\bf{\\hat{y}} = \\bf{X} \\bf{\\beta}\n",
    "$$\n",
    "\n",
    "The coefficients can be found using the following *closed-form equation*:\n",
    "\n",
    "$$\n",
    "\\bf{\\beta} = (\\bf{X}^T \\bf{X})^{-1} \\bf{X}^T \\bf{y}\n",
    "$$\n",
    "\n",
    "I should take a second to note: This equation provides a single clean method\n",
    "of finding the optimal parameters for our linear model. While it looks like the\n",
    "best solution, it really depends on the situation. Matrix algebra works\n",
    "efficiently for relatively small datasets, but calculating inverses on large\n",
    "matrices can often take long periods of time--that's where gradient descent\n",
    "comes in. For what we're doing, however, the closed-form solution should work\n",
    "well."
   ]
  },
  {
   "cell_type": "code",
   "execution_count": 1,
   "id": "57be9031",
   "metadata": {},
   "outputs": [],
   "source": [
    "# Import modules\n",
    "import pandas as pd\n",
    "import numpy as np\n",
    "import matplotlib.pyplot as plt\n",
    "import seaborn as sns"
   ]
  },
  {
   "cell_type": "code",
   "execution_count": 2,
   "id": "00ffd927",
   "metadata": {},
   "outputs": [
    {
     "data": {
      "text/html": [
       "<div>\n",
       "<style scoped>\n",
       "    .dataframe tbody tr th:only-of-type {\n",
       "        vertical-align: middle;\n",
       "    }\n",
       "\n",
       "    .dataframe tbody tr th {\n",
       "        vertical-align: top;\n",
       "    }\n",
       "\n",
       "    .dataframe thead th {\n",
       "        text-align: right;\n",
       "    }\n",
       "</style>\n",
       "<table border=\"1\" class=\"dataframe\">\n",
       "  <thead>\n",
       "    <tr style=\"text-align: right;\">\n",
       "      <th></th>\n",
       "      <th>mpg</th>\n",
       "      <th>cylinders</th>\n",
       "      <th>displacement</th>\n",
       "      <th>horsepower</th>\n",
       "      <th>weight</th>\n",
       "      <th>acceleration</th>\n",
       "      <th>model_year</th>\n",
       "      <th>origin</th>\n",
       "      <th>name</th>\n",
       "    </tr>\n",
       "  </thead>\n",
       "  <tbody>\n",
       "    <tr>\n",
       "      <th>0</th>\n",
       "      <td>18.0</td>\n",
       "      <td>8</td>\n",
       "      <td>307.0</td>\n",
       "      <td>130.0</td>\n",
       "      <td>3504</td>\n",
       "      <td>12.0</td>\n",
       "      <td>70</td>\n",
       "      <td>usa</td>\n",
       "      <td>chevrolet chevelle malibu</td>\n",
       "    </tr>\n",
       "    <tr>\n",
       "      <th>1</th>\n",
       "      <td>15.0</td>\n",
       "      <td>8</td>\n",
       "      <td>350.0</td>\n",
       "      <td>165.0</td>\n",
       "      <td>3693</td>\n",
       "      <td>11.5</td>\n",
       "      <td>70</td>\n",
       "      <td>usa</td>\n",
       "      <td>buick skylark 320</td>\n",
       "    </tr>\n",
       "    <tr>\n",
       "      <th>2</th>\n",
       "      <td>18.0</td>\n",
       "      <td>8</td>\n",
       "      <td>318.0</td>\n",
       "      <td>150.0</td>\n",
       "      <td>3436</td>\n",
       "      <td>11.0</td>\n",
       "      <td>70</td>\n",
       "      <td>usa</td>\n",
       "      <td>plymouth satellite</td>\n",
       "    </tr>\n",
       "    <tr>\n",
       "      <th>3</th>\n",
       "      <td>16.0</td>\n",
       "      <td>8</td>\n",
       "      <td>304.0</td>\n",
       "      <td>150.0</td>\n",
       "      <td>3433</td>\n",
       "      <td>12.0</td>\n",
       "      <td>70</td>\n",
       "      <td>usa</td>\n",
       "      <td>amc rebel sst</td>\n",
       "    </tr>\n",
       "    <tr>\n",
       "      <th>4</th>\n",
       "      <td>17.0</td>\n",
       "      <td>8</td>\n",
       "      <td>302.0</td>\n",
       "      <td>140.0</td>\n",
       "      <td>3449</td>\n",
       "      <td>10.5</td>\n",
       "      <td>70</td>\n",
       "      <td>usa</td>\n",
       "      <td>ford torino</td>\n",
       "    </tr>\n",
       "  </tbody>\n",
       "</table>\n",
       "</div>"
      ],
      "text/plain": [
       "    mpg  cylinders  displacement  horsepower  weight  acceleration  \\\n",
       "0  18.0          8         307.0       130.0    3504          12.0   \n",
       "1  15.0          8         350.0       165.0    3693          11.5   \n",
       "2  18.0          8         318.0       150.0    3436          11.0   \n",
       "3  16.0          8         304.0       150.0    3433          12.0   \n",
       "4  17.0          8         302.0       140.0    3449          10.5   \n",
       "\n",
       "   model_year origin                       name  \n",
       "0          70    usa  chevrolet chevelle malibu  \n",
       "1          70    usa          buick skylark 320  \n",
       "2          70    usa         plymouth satellite  \n",
       "3          70    usa              amc rebel sst  \n",
       "4          70    usa                ford torino  "
      ]
     },
     "execution_count": 2,
     "metadata": {},
     "output_type": "execute_result"
    }
   ],
   "source": [
    "df = sns.load_dataset('mpg')\n",
    "df.head()"
   ]
  },
  {
   "cell_type": "code",
   "execution_count": 3,
   "id": "4d01f917",
   "metadata": {},
   "outputs": [
    {
     "name": "stdout",
     "output_type": "stream",
     "text": [
      "Shape of X: (392, 2)\n",
      "First 5 rows of X:\n",
      " [[ 130. 3504.]\n",
      " [ 165. 3693.]\n",
      " [ 150. 3436.]\n",
      " [ 150. 3433.]\n",
      " [ 140. 3449.]]\n",
      "\n",
      "Shape of y: (392, 1)\n",
      "First 5 rows of y:\n",
      " [[18.]\n",
      " [15.]\n",
      " [18.]\n",
      " [16.]\n",
      " [17.]]\n"
     ]
    }
   ],
   "source": [
    "df = df.dropna()\n",
    "\n",
    "X = df[['horsepower', 'weight']].values\n",
    "y = df[['mpg']].values\n",
    "\n",
    "print('Shape of X:', X.shape)\n",
    "print('First 5 rows of X:\\n', X[:5])\n",
    "print()\n",
    "print('Shape of y:', y.shape)\n",
    "print('First 5 rows of y:\\n', y[:5])"
   ]
  },
  {
   "cell_type": "code",
   "execution_count": 4,
   "id": "0bd88d59",
   "metadata": {},
   "outputs": [
    {
     "name": "stdout",
     "output_type": "stream",
     "text": [
      "Shape of X_b: (392, 3)\n",
      "First 5 rows of X_b:\n",
      " [[1.000e+00 1.300e+02 3.504e+03]\n",
      " [1.000e+00 1.650e+02 3.693e+03]\n",
      " [1.000e+00 1.500e+02 3.436e+03]\n",
      " [1.000e+00 1.500e+02 3.433e+03]\n",
      " [1.000e+00 1.400e+02 3.449e+03]]\n"
     ]
    }
   ],
   "source": [
    "# Modify X to include a 1's column to represent the intercept term\n",
    "X_beta_0 = np.ones((X.shape[0], 1))\n",
    "X_b = np.hstack([X_beta_0, X])\n",
    "print('Shape of X_b:', X_b.shape)\n",
    "print('First 5 rows of X_b:\\n', X_b[:5])"
   ]
  },
  {
   "cell_type": "code",
   "execution_count": 5,
   "id": "c26f1e0e",
   "metadata": {},
   "outputs": [
    {
     "name": "stdout",
     "output_type": "stream",
     "text": [
      "Shape of beta: (3, 1)\n",
      "First 5 rows of beta:\n",
      " [[ 4.56402108e+01]\n",
      " [-4.73028631e-02]\n",
      " [-5.79415736e-03]]\n"
     ]
    }
   ],
   "source": [
    "# Solve for the coefficients using the closed-form solution:\n",
    "beta = np.linalg.inv(np.dot(X_b.T, X_b)).dot(X_b.T).dot(y)\n",
    "\n",
    "print('Shape of beta:', beta.shape)\n",
    "print('First 5 rows of beta:\\n', beta[:5])"
   ]
  },
  {
   "cell_type": "markdown",
   "id": "8d3f224d",
   "metadata": {},
   "source": [
    "## Interpretation"
   ]
  },
  {
   "cell_type": "markdown",
   "id": "0ee9bf56",
   "metadata": {},
   "source": [
    "We ended with the following values for $\\bf{\\beta}$:\n",
    "\n",
    "- $\\beta_0 = 45.6402$\n",
    "- $\\beta_1 = -0.047303$\n",
    "- $\\beta_2 = -0.005794$\n",
    "\n",
    "This means that the MPG can be approximated with the equation:\n",
    "\n",
    "$$\n",
    "\\text{MPG} = 45.6402 - 0.047303 \\cdot hp - 0.005794 \\cdot w\n",
    "$$\n",
    "\n",
    "But, how accurate is our model? In other words, how strong is this\n",
    "correlation, and how much error would we expect?"
   ]
  },
  {
   "cell_type": "code",
   "execution_count": 8,
   "id": "7f7441c2",
   "metadata": {},
   "outputs": [
    {
     "name": "stdout",
     "output_type": "stream",
     "text": [
      "RMSE:       4.22\n",
      "R² Score:   0.71\n"
     ]
    }
   ],
   "source": [
    "# calculate RMSE (root mean-squared-error) and R2\n",
    "y_pred = X_b.dot(beta)\n",
    "rmse = np.mean((y - y_pred) ** 2) ** 0.5\n",
    "\n",
    "sse = np.sum((y - y_pred) ** 2)\n",
    "tse = np.sum((y - y.mean()) ** 2)\n",
    "r2 = 1 - sse / tse\n",
    "\n",
    "print(f\"RMSE:       {rmse:.2f}\")\n",
    "print(f\"R² Score:   {r2:.2f}\")"
   ]
  },
  {
   "cell_type": "code",
   "execution_count": 9,
   "id": "2a91c434",
   "metadata": {},
   "outputs": [
    {
     "data": {
      "image/png": "[encoded data removed]",
      "text/plain": [
       "<Figure size 640x480 with 1 Axes>"
      ]
     },
     "metadata": {},
     "output_type": "display_data"
    }
   ],
   "source": [
    "# Plot the \n",
    "plt.scatter(y, y_pred, alpha=0.5)\n",
    "plt.xlabel(\"Actual MPG\")\n",
    "plt.ylabel(\"Predicted MPG\")\n",
    "plt.title(\"Actual vs. Predicted MPG\")\n",
    "plt.plot([y.min(), y.max()], [y.min(), y.max()], color='red')\n",
    "plt.grid()\n",
    "plt.show()"
   ]
  },
  {
   "cell_type": "markdown",
   "id": "830a13e7",
   "metadata": {},
   "source": [
    "From here, we can see that our model works relatively well for low MPG, but\n",
    "the model starts to deviate for higher MPG. In other words, there are some\n",
    "cars that have much higher MPGs (as sown on the right, around 45 mpg), but our\n",
    "model is underestimating them."
   ]
  },
  {
   "cell_type": "markdown",
   "id": "885ef987",
   "metadata": {},
   "source": [
    "## Next Steps"
   ]
  },
  {
   "cell_type": "markdown",
   "id": "2ccd0085",
   "metadata": {},
   "source": [
    "Some additional things we can look at with our linear model:\n",
    "\n",
    "- **Additional Features** - We only included horsepower and weight, but we could\n",
    "  look at including cylinders, acceleration, and model year as features.\n",
    "- **Categorical Encoding** - We ignored the `name` column, which contains\n",
    "  data about the make/model of the car. It's possible that some manufacturers\n",
    "  tend to make more efficient cars, so we could look at extracting the make\n",
    "  and encoding that as a new feature.\n",
    "- **Gradient Descent** - We used the closed-form solution here, but it is more\n",
    "  typical to use an optimization algorithm like gradient descent, since the\n",
    "  closed-form solution performs much slower on large datasets.\n",
    "- **Polynomial Features** - Our model assumes that MPG has a linear\n",
    "  relationship with weight & horsepower. However, it's possible there is a\n",
    "  higher-order relationship at play (e.g., 2nd- or 3rd-degree). We could create\n",
    "  additional higher-order features to include, perhaps improving the error of\n",
    "  our existing model."
   ]
  }
 ],
 "metadata": {
  "kernelspec": {
   "display_name": "Python 3",
   "language": "python",
   "name": "python3"
  },
  "language_info": {
   "codemirror_mode": {
    "name": "ipython",
    "version": 3
   },
   "file_extension": ".py",
   "mimetype": "text/x-python",
   "name": "python",
   "nbconvert_exporter": "python",
   "pygments_lexer": "ipython3",
   "version": "3.12.6"
  }
 },
 "nbformat": 4,
 "nbformat_minor": 5
}
